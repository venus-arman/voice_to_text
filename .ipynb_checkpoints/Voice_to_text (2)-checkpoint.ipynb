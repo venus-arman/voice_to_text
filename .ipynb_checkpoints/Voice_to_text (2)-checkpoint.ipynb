{
 "cells": [
  {
   "cell_type": "code",
   "execution_count": 1,
   "id": "e180b9fc-e67a-431a-bb98-2a9b0da84ed2",
   "metadata": {},
   "outputs": [
    {
     "name": "stdout",
     "output_type": "stream",
     "text": [
      "Collecting SpeechRecognition\n",
      "  Downloading SpeechRecognition-3.10.0-py2.py3-none-any.whl (32.8 MB)\n",
      "     ---------------------------------------- 32.8/32.8 MB 8.7 MB/s eta 0:00:00\n",
      "Requirement already satisfied: requests>=2.26.0 in c:\\users\\syous\\anaconda3\\lib\\site-packages (from SpeechRecognition) (2.28.1)\n",
      "Requirement already satisfied: urllib3<1.27,>=1.21.1 in c:\\users\\syous\\anaconda3\\lib\\site-packages (from requests>=2.26.0->SpeechRecognition) (1.26.14)\n",
      "Requirement already satisfied: idna<4,>=2.5 in c:\\users\\syous\\anaconda3\\lib\\site-packages (from requests>=2.26.0->SpeechRecognition) (3.4)\n",
      "Requirement already satisfied: certifi>=2017.4.17 in c:\\users\\syous\\anaconda3\\lib\\site-packages (from requests>=2.26.0->SpeechRecognition) (2023.7.22)\n",
      "Requirement already satisfied: charset-normalizer<3,>=2 in c:\\users\\syous\\anaconda3\\lib\\site-packages (from requests>=2.26.0->SpeechRecognition) (2.0.4)\n",
      "Installing collected packages: SpeechRecognition\n",
      "Successfully installed SpeechRecognition-3.10.0\n"
     ]
    }
   ],
   "source": [
    "!pip install SpeechRecognition"
   ]
  },
  {
   "cell_type": "code",
   "execution_count": 3,
   "id": "ac93720c-4928-4485-a640-6ec6984f1d31",
   "metadata": {},
   "outputs": [],
   "source": [
    "import speech_recognition as sr\n",
    "import IPython"
   ]
  },
  {
   "cell_type": "code",
   "execution_count": 33,
   "id": "9cdc8eab-319e-4d2c-be06-f70334ebd448",
   "metadata": {},
   "outputs": [],
   "source": [
    "# male_path = \"../input/audio-files/male.wav\"\n",
    "# IPython.display.Audio(male_path)"
   ]
  },
  {
   "cell_type": "code",
   "execution_count": 34,
   "id": "f726615d-ccfa-4cfe-b5ab-3c071f0f9698",
   "metadata": {},
   "outputs": [
    {
     "data": {
      "text/plain": [
       "\"hi my name is Anita I'm 75 years old and I have anxiety and old I need people to take care of me I need to talk to a consultant and I don't have access to it\""
      ]
     },
     "execution_count": 34,
     "metadata": {},
     "output_type": "execute_result"
    }
   ],
   "source": [
    "import speech_recognition as SR\n",
    "SR_obj = SR.Recognizer()\n",
    " \n",
    "info = SR.AudioFile('Recording_test1.wav')\n",
    "with info as source:\n",
    "    SR_obj.adjust_for_ambient_noise(source)\n",
    "    audio_data = SR_obj.record(source,duration=100)\n",
    "SR_obj.recognize_google(audio_data)"
   ]
  },
  {
   "cell_type": "code",
   "execution_count": 35,
   "id": "010531ea-3f72-44fb-a24b-4fea0d64193c",
   "metadata": {},
   "outputs": [],
   "source": [
    "class Voice_to_text():\n",
    "    \n",
    "    \"\"\"\n",
    "    \n",
    "    \"\"\"\n",
    "    SR_obj = SR.Recognizer()\n",
    "    def get(self, id):\n",
    "        \n",
    "        for voice_ in voice_list:\n",
    "            if(voice_[\"id\"] == id):\n",
    "                info = SR.AudioFile(voice)\n",
    "                with info as source:\n",
    "                    SR_obj.adjust_for_ambient_noise(source)\n",
    "                    audio_data = SR_obj.record(source,duration=100)\n",
    "                return(SR_obj.recognize_google(audio_data))    \n",
    "    \n",
    " \n",
    "    "
   ]
  },
  {
   "cell_type": "code",
   "execution_count": 36,
   "id": "a0aa67e1-1ba7-480c-9311-15167888b7bf",
   "metadata": {},
   "outputs": [],
   "source": [
    "cc = Voice_to_text()"
   ]
  },
  {
   "cell_type": "code",
   "execution_count": null,
   "id": "dc2c1ce1-3162-48cd-9bc4-31fc10f08932",
   "metadata": {},
   "outputs": [],
   "source": [
    "voice_list = [\n",
    "        {\"id\":0, \n",
    "         \"voice\" : \"voice1.wav\"\n",
    "        },\n",
    "        {\"id\": 1,\n",
    "         \"voice\" : \"voice2.wav\"\n",
    "        }\n",
    "            ]"
   ]
  },
  {
   "cell_type": "code",
   "execution_count": 25,
   "id": "02825cb4-eeeb-4dd9-a326-be02093b8144",
   "metadata": {},
   "outputs": [
    {
     "data": {
      "text/plain": [
       "\"good morning my name is Kavita and I'm calling you in relation to initial that I have recently in Canada's new immigrant I have had issues and I would like to speak with one of your doctors or therapists at the medical center please let me know can I have an appointment and what is the procedure in order to have a medical check by your Specialists I will leave you my contacts so please give me feedback on my phone number which is 3567533 or let me know on my email dot thank you very much and I'm waiting for me thank you\""
      ]
     },
     "execution_count": 25,
     "metadata": {},
     "output_type": "execute_result"
    }
   ],
   "source": [
    "cc.voice_to_txt('voice2.wav')"
   ]
  },
  {
   "cell_type": "code",
   "execution_count": 16,
   "id": "0e31beb9-9297-4d66-bbd6-4f571e0d2f00",
   "metadata": {},
   "outputs": [
    {
     "name": "stdout",
     "output_type": "stream",
     "text": [
      "Collecting flask-restfulNote: you may need to restart the kernel to use updated packages.\n",
      "\n",
      "  Downloading Flask_RESTful-0.3.10-py2.py3-none-any.whl (26 kB)\n",
      "Collecting aniso8601>=0.82\n",
      "  Downloading aniso8601-9.0.1-py2.py3-none-any.whl (52 kB)\n",
      "     ---------------------------------------- 52.8/52.8 kB ? eta 0:00:00\n",
      "Requirement already satisfied: six>=1.3.0 in c:\\users\\syous\\anaconda3\\lib\\site-packages (from flask-restful) (1.16.0)\n",
      "Requirement already satisfied: pytz in c:\\users\\syous\\anaconda3\\lib\\site-packages (from flask-restful) (2022.7)\n",
      "Requirement already satisfied: Flask>=0.8 in c:\\users\\syous\\anaconda3\\lib\\site-packages (from flask-restful) (2.2.2)\n",
      "Requirement already satisfied: Werkzeug>=2.2.2 in c:\\users\\syous\\anaconda3\\lib\\site-packages (from Flask>=0.8->flask-restful) (2.2.2)\n",
      "Requirement already satisfied: click>=8.0 in c:\\users\\syous\\anaconda3\\lib\\site-packages (from Flask>=0.8->flask-restful) (8.0.4)\n",
      "Requirement already satisfied: Jinja2>=3.0 in c:\\users\\syous\\anaconda3\\lib\\site-packages (from Flask>=0.8->flask-restful) (3.1.2)\n",
      "Requirement already satisfied: itsdangerous>=2.0 in c:\\users\\syous\\anaconda3\\lib\\site-packages (from Flask>=0.8->flask-restful) (2.0.1)\n",
      "Requirement already satisfied: colorama in c:\\users\\syous\\anaconda3\\lib\\site-packages (from click>=8.0->Flask>=0.8->flask-restful) (0.4.6)\n",
      "Requirement already satisfied: MarkupSafe>=2.0 in c:\\users\\syous\\anaconda3\\lib\\site-packages (from Jinja2>=3.0->Flask>=0.8->flask-restful) (2.1.1)\n",
      "Installing collected packages: aniso8601, flask-restful\n",
      "Successfully installed aniso8601-9.0.1 flask-restful-0.3.10\n"
     ]
    }
   ],
   "source": [
    "pip install flask-restful"
   ]
  },
  {
   "cell_type": "code",
   "execution_count": 17,
   "id": "72fb5e08-5603-49df-b19b-e2fdb9b06336",
   "metadata": {},
   "outputs": [],
   "source": [
    "from flask import Flask\n",
    "from flask_restful import Api, Resource, reqparse\n",
    "import random\n",
    "app = Flask(__name__)\n",
    "api = Api(app)"
   ]
  },
  {
   "cell_type": "code",
   "execution_count": null,
   "id": "ae1735b4-14f0-4f9f-bb1d-ea6caeb8055a",
   "metadata": {},
   "outputs": [],
   "source": []
  }
 ],
 "metadata": {
  "kernelspec": {
   "display_name": "Python 3 (ipykernel)",
   "language": "python",
   "name": "python3"
  },
  "language_info": {
   "codemirror_mode": {
    "name": "ipython",
    "version": 3
   },
   "file_extension": ".py",
   "mimetype": "text/x-python",
   "name": "python",
   "nbconvert_exporter": "python",
   "pygments_lexer": "ipython3",
   "version": "3.10.9"
  }
 },
 "nbformat": 4,
 "nbformat_minor": 5
}
